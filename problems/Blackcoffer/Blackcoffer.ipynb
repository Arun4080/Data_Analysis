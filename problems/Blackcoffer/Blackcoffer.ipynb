{
 "cells": [
  {
   "cell_type": "markdown",
   "metadata": {},
   "source": [
    "# Black Coffer"
   ]
  },
  {
   "cell_type": "markdown",
   "metadata": {},
   "source": [
    "# importing modules"
   ]
  },
  {
   "cell_type": "code",
   "execution_count": 6,
   "metadata": {},
   "outputs": [],
   "source": [
    "import pandas as pd\n",
    "from nltk.corpus import stopwords\n",
    "import urllib\n",
    "import re"
   ]
  },
  {
   "cell_type": "markdown",
   "metadata": {},
   "source": [
    "## Read files"
   ]
  },
  {
   "cell_type": "code",
   "execution_count": 11,
   "metadata": {},
   "outputs": [],
   "source": [
    "list=pd.read_excel(\"data/cik_list.xlsx\")\n",
    "master_dic=pd.read_csv(\"data/Master_dic.csv\")\n",
    "uncertainity_dic=pd.read_excel('data/uncertainty_dictionary.xlsx')\n",
    "constraining_dic=pd.read_excel('data/constraining_dictionary.xlsx')\n",
    "\n",
    "pos=[master_dic['Word'][i] for i in range(len(master_dic)) if master_dic['Positive'][i]==2009]\n",
    "neg=[master_dic['Word'][i] for i in range(len(master_dic)) if master_dic['Negative'][i]==2009]\n",
    "\n",
    "stop_words=stopwords.words('english')\n",
    "uncertainity_word=[i for i in uncertainity_dic['Word']]\n",
    "constraining_word=[i for i in constraining_dic['Word']]"
   ]
  },
  {
   "cell_type": "markdown",
   "metadata": {},
   "source": [
    "## Functions"
   ]
  },
  {
   "cell_type": "code",
   "execution_count": 6,
   "metadata": {},
   "outputs": [],
   "source": [
    "def getWords(text):\n",
    "    return re.compile('\\w+').findall(text)\n",
    "\n",
    "def Syllable_count(list):\n",
    "    n=0\n",
    "    for word in list:\n",
    "        word = word.lower()\n",
    "        count=0\n",
    "        vowels = \"aeiouy\"\n",
    "        if word[0] in vowels:\n",
    "            count += 1\n",
    "        for index in range(1, len(word)):\n",
    "            if word[index] in vowels and word[index - 1] not in vowels:\n",
    "                count += 1\n",
    "                if word.endswith(\"es\")|word.endswith(\"ed\"):\n",
    "                    count -= 1\n",
    "        if count > 1:\n",
    "            n +=1\n",
    "    return n\n",
    "    \n",
    "\n",
    "def Sentimental_Analysis(page):\n",
    "    p, n, word_count, sentence_count, complex_no, uncertainityWordCount, constrainingWordCount = 0,0,0,0,0,0,0\n",
    "    \n",
    "    for line in page: \n",
    "        line=line.decode('utf-8')\n",
    "        sentence_count+=line.count(\".\")\n",
    "                \n",
    "        line=getWords(line)\n",
    "        line=[i for i in line if not i in stop_words]\n",
    "        \n",
    "        complex_no+=Syllable_count(line)\n",
    "        \n",
    "        word_count+=len(line)\n",
    "        \n",
    "        p+=len(set.intersection(set(line),set(pos)))\n",
    "        n+=len(set.intersection(set(line),set(neg)))\n",
    "        \n",
    "        uncertainityWordCount+=len(set.intersection(set(line),set(uncertainity_word)))\n",
    "        constrainingWordCount+=len(set.intersection(set(line),set(constraining_word)))\n",
    "        \n",
    "    Pol = (p-n)/((p+n)+0.000001)\n",
    "    asn=word_count/sentence_count\n",
    "    pcw=complex_no/word_count\n",
    "    fogIndex = 0.4*(asn+pcw)\n",
    "    \n",
    "    return(p,n,Pol,asn,pcw,fogIndex,complex_no,word_count,uncertainityWordCount,constrainingWordCount) "
   ]
  },
  {
   "cell_type": "markdown",
   "metadata": {},
   "source": [
    "## Create csv file to save data"
   ]
  },
  {
   "cell_type": "code",
   "execution_count": 4,
   "metadata": {},
   "outputs": [
    {
     "data": {
      "text/plain": [
       "175"
      ]
     },
     "execution_count": 4,
     "metadata": {},
     "output_type": "execute_result"
    }
   ],
   "source": [
    "file=open(\"data.csv\",'w')\n",
    "file.write(\"Positive_score,Negitive_score,Polerity_Score,Average_Sentence_length,Percentage_of_complex_words,Fog_index,Complex_word_count,Word_count,Uncertainity_score,Constraining_score\\n\")\n"
   ]
  },
  {
   "cell_type": "markdown",
   "metadata": {},
   "source": [
    "## Extracting Links"
   ]
  },
  {
   "cell_type": "code",
   "execution_count": 7,
   "metadata": {},
   "outputs": [],
   "source": [
    "my_links=[\"https://www.sec.gov/Archives/\"+i for i in list['SECFNAME']]\n",
    "for i in my_links:\n",
    "    page=urllib.request.urlopen(i)\n",
    "    a=Sentimental_Analysis(page)\n",
    "    file.write(str(a[0]) + \",\" + str(a[1]) + \",\" + str(a[2]) + \",\" + str(a[3]) + \",\" + str(a[4]) + \",\" + str(a[5]) + \",\" + str(a[6]) + \",\" + str(a[7]) + \",\" + str(a[8]) + \",\" + str(a[9]) + \"\\n\")"
   ]
  },
  {
   "cell_type": "code",
   "execution_count": 8,
   "metadata": {},
   "outputs": [],
   "source": [
    "file.close()"
   ]
  },
  {
   "cell_type": "markdown",
   "metadata": {},
   "source": [
    "## Concatinating result file with cik_list file"
   ]
  },
  {
   "cell_type": "code",
   "execution_count": 9,
   "metadata": {},
   "outputs": [],
   "source": [
    "list=pd.read_excel(\"data/cik_list.xlsx\")\n",
    "output=pd.read_csv(\"data.csv\")"
   ]
  },
  {
   "cell_type": "code",
   "execution_count": 10,
   "metadata": {},
   "outputs": [],
   "source": [
    "final=pd.concat([list,output],axis=1)"
   ]
  },
  {
   "cell_type": "code",
   "execution_count": 11,
   "metadata": {},
   "outputs": [],
   "source": [
    "final.to_csv(\"final.csv\",encoding='utf-8')"
   ]
  },
  {
   "cell_type": "code",
   "execution_count": null,
   "metadata": {},
   "outputs": [],
   "source": []
  },
  {
   "cell_type": "code",
   "execution_count": null,
   "metadata": {},
   "outputs": [],
   "source": []
  },
  {
   "cell_type": "code",
   "execution_count": null,
   "metadata": {},
   "outputs": [],
   "source": []
  }
 ],
 "metadata": {
  "kernelspec": {
   "display_name": "Python 3",
   "language": "python",
   "name": "python3"
  },
  "language_info": {
   "codemirror_mode": {
    "name": "ipython",
    "version": 3
   },
   "file_extension": ".py",
   "mimetype": "text/x-python",
   "name": "python",
   "nbconvert_exporter": "python",
   "pygments_lexer": "ipython3",
   "version": "3.6.5"
  }
 },
 "nbformat": 4,
 "nbformat_minor": 2
}
